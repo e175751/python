{
 "cells": [
  {
   "cell_type": "code",
   "execution_count": 11,
   "metadata": {},
   "outputs": [],
   "source": [
    "import numpy as np\n",
    "from util import preprocess, create_co_matrix, cos_similarity, ppmi,most_similar"
   ]
  },
  {
   "cell_type": "code",
   "execution_count": 12,
   "metadata": {},
   "outputs": [],
   "source": [
    "text =\"I have a pen. I have a apple. umm, apple pen. I have a pen. I have a pineapple. umm, pineapple pen.\""
   ]
  },
  {
   "cell_type": "code",
   "execution_count": 13,
   "metadata": {},
   "outputs": [],
   "source": [
    "corpus, word_to_id, id_to_word = preprocess(text)"
   ]
  },
  {
   "cell_type": "code",
   "execution_count": 5,
   "metadata": {},
   "outputs": [
    {
     "data": {
      "text/plain": [
       "array([0, 1, 2, 3, 4])"
      ]
     },
     "execution_count": 5,
     "metadata": {},
     "output_type": "execute_result"
    }
   ],
   "source": [
    "corpus"
   ]
  },
  {
   "cell_type": "code",
   "execution_count": 6,
   "metadata": {},
   "outputs": [
    {
     "data": {
      "text/plain": [
       "{'i': 0, 'have': 1, 'a': 2, 'pen': 3, '.': 4}"
      ]
     },
     "execution_count": 6,
     "metadata": {},
     "output_type": "execute_result"
    }
   ],
   "source": [
    "word_to_id"
   ]
  },
  {
   "cell_type": "code",
   "execution_count": 7,
   "metadata": {},
   "outputs": [
    {
     "data": {
      "text/plain": [
       "{0: 'i', 1: 'have', 2: 'a', 3: 'pen', 4: '.'}"
      ]
     },
     "execution_count": 7,
     "metadata": {},
     "output_type": "execute_result"
    }
   ],
   "source": [
    "id_to_word"
   ]
  },
  {
   "cell_type": "code",
   "execution_count": 14,
   "metadata": {},
   "outputs": [],
   "source": [
    "vocab_size = len(word_to_id)"
   ]
  },
  {
   "cell_type": "code",
   "execution_count": 15,
   "metadata": {},
   "outputs": [],
   "source": [
    "C = create_co_matrix(corpus, vocab_size)\n",
    "W= ppmi(C)"
   ]
  },
  {
   "cell_type": "code",
   "execution_count": 16,
   "metadata": {},
   "outputs": [],
   "source": [
    "np.set_printoptions(precision=3)"
   ]
  },
  {
   "cell_type": "code",
   "execution_count": 17,
   "metadata": {},
   "outputs": [
    {
     "name": "stdout",
     "output_type": "stream",
     "text": [
      "[[0 4 0 0 3 0 0 0]\n",
      " [4 0 4 0 0 0 0 0]\n",
      " [0 4 0 2 0 1 0 1]\n",
      " [0 0 2 0 4 1 0 1]\n",
      " [3 0 0 4 0 1 2 1]\n",
      " [0 0 1 1 1 0 1 0]\n",
      " [0 0 0 0 2 1 0 1]\n",
      " [0 0 1 1 1 0 1 0]]\n"
     ]
    }
   ],
   "source": [
    "print(C)"
   ]
  },
  {
   "cell_type": "code",
   "execution_count": 18,
   "metadata": {},
   "outputs": [
    {
     "name": "stdout",
     "output_type": "stream",
     "text": [
      "[[0.    1.948 0.    0.    1.073 0.    0.    0.   ]\n",
      " [1.948 0.    1.755 0.    0.    0.    0.    0.   ]\n",
      " [0.    1.755 0.    0.755 0.    0.755 0.    0.755]\n",
      " [0.    0.    0.755 0.    1.295 0.755 0.    0.755]\n",
      " [1.073 0.    0.    1.295 0.    0.295 1.295 0.295]\n",
      " [0.    0.    0.755 0.755 0.295 0.    1.755 0.   ]\n",
      " [0.    0.    0.    0.    1.295 1.755 0.    1.755]\n",
      " [0.    0.    0.755 0.755 0.295 0.    1.755 0.   ]]\n"
     ]
    }
   ],
   "source": [
    "print(W)"
   ]
  },
  {
   "cell_type": "code",
   "execution_count": 19,
   "metadata": {},
   "outputs": [],
   "source": [
    "c0 = C[word_to_id['apple']]\n",
    "c1 = C[word_to_id['pineapple']]"
   ]
  },
  {
   "cell_type": "code",
   "execution_count": 20,
   "metadata": {},
   "outputs": [
    {
     "name": "stdout",
     "output_type": "stream",
     "text": [
      "0.9999999900000001\n"
     ]
    }
   ],
   "source": [
    "print(cos_similarity(c0,c1))"
   ]
  },
  {
   "cell_type": "code",
   "execution_count": 21,
   "metadata": {},
   "outputs": [
    {
     "name": "stdout",
     "output_type": "stream",
     "text": [
      "\n",
      "[query] apple\n",
      " pineapple: 0.9999999900000001\n",
      " pen: 0.6396021445051843\n",
      " .: 0.5388159024185033\n",
      " umm,: 0.4082482867559549\n",
      " have: 0.3535533882005068\n"
     ]
    }
   ],
   "source": [
    "most_similar('apple', word_to_id, id_to_word, C, top=5)"
   ]
  },
  {
   "cell_type": "code",
   "execution_count": null,
   "metadata": {},
   "outputs": [],
   "source": []
  }
 ],
 "metadata": {
  "kernelspec": {
   "display_name": "Python 3",
   "language": "python",
   "name": "python3"
  },
  "language_info": {
   "codemirror_mode": {
    "name": "ipython",
    "version": 3
   },
   "file_extension": ".py",
   "mimetype": "text/x-python",
   "name": "python",
   "nbconvert_exporter": "python",
   "pygments_lexer": "ipython3",
   "version": "3.6.5"
  }
 },
 "nbformat": 4,
 "nbformat_minor": 2
}

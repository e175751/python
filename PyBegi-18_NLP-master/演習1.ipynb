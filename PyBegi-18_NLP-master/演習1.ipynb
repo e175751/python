{
 "cells": [
  {
   "cell_type": "code",
   "execution_count": 2,
   "metadata": {},
   "outputs": [],
   "source": [
    "#必要なライブラリのimport\n",
    "import numpy as np\n",
    "from common.util import preprocess, create_co_matrix, cos_similarity, ppmi,most_similar"
   ]
  },
  {
   "cell_type": "code",
   "execution_count": null,
   "metadata": {},
   "outputs": [],
   "source": [
    "#読み込むコーパスの書き込み\n",
    "text = \"you say goodbye and i say hello.\""
   ]
  },
  {
   "cell_type": "markdown",
   "metadata": {},
   "source": [
    "# 演習1: コーパス(text)から単語に切り分ける\n",
    "\n",
    "1. 文章を単語へ分割し辞書を作成する(preprocessを使用)\n",
    "\n",
    "    1-1 idから単語を検索する\n",
    "\n",
    "    1-2 単語からidを検索する\n",
    "\n",
    "\n",
    "2. 辞書の番号にあてはめた表記の確認"
   ]
  },
  {
   "cell_type": "code",
   "execution_count": null,
   "metadata": {},
   "outputs": [],
   "source": [
    "#単語id、単語のidと単語の対応表を作成\n",
    "corpus, word_to_id, id_to_word = preprocess(text)"
   ]
  },
  {
   "cell_type": "code",
   "execution_count": null,
   "metadata": {},
   "outputs": [],
   "source": [
    "# id_to_word :idから単語を検索する\n",
    "print(\"id_to_word:\",id_to_word)"
   ]
  },
  {
   "cell_type": "code",
   "execution_count": null,
   "metadata": {},
   "outputs": [],
   "source": [
    "# word_to_id :単語からidを検索する\n",
    "print(\"word_to_id:\",word_to_id)"
   ]
  },
  {
   "cell_type": "code",
   "execution_count": null,
   "metadata": {},
   "outputs": [],
   "source": [
    "print(\"text:\",text)\n",
    "print(\"corpus:\",corpus)"
   ]
  },
  {
   "cell_type": "markdown",
   "metadata": {},
   "source": [
    "# 演習2: 共起行列の作成\n",
    "1. 単語数を求める(vocab_size)\n",
    "2. 共起行列を求める(create_co_matrix)"
   ]
  },
  {
   "cell_type": "code",
   "execution_count": null,
   "metadata": {},
   "outputs": [],
   "source": [
    "vocab_size = len(word_to_id)\n",
    "print(\"vocab_size:\",vocab_size)"
   ]
  },
  {
   "cell_type": "code",
   "execution_count": null,
   "metadata": {},
   "outputs": [],
   "source": [
    "C = create_co_matrix(corpus, vocab_size)"
   ]
  },
  {
   "cell_type": "code",
   "execution_count": null,
   "metadata": {},
   "outputs": [],
   "source": [
    "print(C)"
   ]
  },
  {
   "cell_type": "markdown",
   "metadata": {},
   "source": [
    "# 演習3: 単語ベクトルの類似性の確認\n",
    "1. 指定した２つの単語の類似性を確認する(cos_similarity)\n",
    "2. 指定した単語と類似性の高い単語を５つ表示する(most_similar)"
   ]
  },
  {
   "cell_type": "code",
   "execution_count": null,
   "metadata": {},
   "outputs": [],
   "source": [
    "c0 = C[word_to_id['i']]\n",
    "c1 = C[word_to_id['you']]\n",
    "print(cos_similarity(c0,c1))"
   ]
  },
  {
   "cell_type": "code",
   "execution_count": null,
   "metadata": {},
   "outputs": [],
   "source": [
    "most_similar('i', word_to_id, id_to_word, C, top=5)"
   ]
  },
  {
   "cell_type": "code",
   "execution_count": null,
   "metadata": {},
   "outputs": [],
   "source": []
  },
  {
   "cell_type": "markdown",
   "metadata": {},
   "source": [
    "# 演習4: 本日の復習\n",
    "1. 新しく短い文章を作成する(preprocessを利用)\n",
    "2. 共起行列を作成する(create_co_matrixを利用)\n",
    "3. 単語ベクトルの類似性を確認(most_sililar)"
   ]
  },
  {
   "cell_type": "code",
   "execution_count": null,
   "metadata": {},
   "outputs": [],
   "source": [
    "text =\"I have a pen. I have a apple. umm, apple pen. I have a pen. I have a pineapple. umm, pineapple pen. apple pen pineapple pen umm pen pineapple apple pen\""
   ]
  },
  {
   "cell_type": "code",
   "execution_count": null,
   "metadata": {},
   "outputs": [],
   "source": []
  }
 ],
 "metadata": {
  "kernelspec": {
   "display_name": "Python 3",
   "language": "python",
   "name": "python3"
  },
  "language_info": {
   "codemirror_mode": {
    "name": "ipython",
    "version": 3
   },
   "file_extension": ".py",
   "mimetype": "text/x-python",
   "name": "python",
   "nbconvert_exporter": "python",
   "pygments_lexer": "ipython3",
   "version": "3.6.5"
  }
 },
 "nbformat": 4,
 "nbformat_minor": 2
}

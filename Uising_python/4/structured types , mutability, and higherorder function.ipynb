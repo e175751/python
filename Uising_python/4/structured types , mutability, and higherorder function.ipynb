{
 "cells": [
  {
   "cell_type": "code",
   "execution_count": 1,
   "metadata": {},
   "outputs": [
    {
     "name": "stdout",
     "output_type": "stream",
     "text": [
      "()\n",
      "(1, 'two', 3)\n"
     ]
    }
   ],
   "source": [
    "t1 = ()\n",
    "t2 = (1, \"two\", 3)\n",
    "print(t1)\n",
    "print(t2)"
   ]
  },
  {
   "cell_type": "code",
   "execution_count": 2,
   "metadata": {},
   "outputs": [
    {
     "name": "stdout",
     "output_type": "stream",
     "text": [
      "(1, 2, 4, 5, 10, 20)\n",
      "42\n"
     ]
    }
   ],
   "source": [
    "def findDivisors(n1,n2):\n",
    "    divisors = ()\n",
    "    for i in range(1,min(n1,n2)+1):\n",
    "        if n1 % i == 0 and n2 % i == 0:\n",
    "            divisors = divisors + (i,)\n",
    "    return divisors\n",
    "\n",
    "divisors = findDivisors(20,100)\n",
    "print(divisors)\n",
    "total = 0\n",
    "for d in divisors:\n",
    "    total += d\n",
    "print(total)"
   ]
  },
  {
   "cell_type": "code",
   "execution_count": 3,
   "metadata": {},
   "outputs": [
    {
     "name": "stdout",
     "output_type": "stream",
     "text": [
      "2\n",
      "100\n"
     ]
    }
   ],
   "source": [
    "def findDivisors(n1,n2):\n",
    "    divisors = ()\n",
    "    minVal,maxVal = None,None\n",
    "    for i in range(2,min(n1,n2) + 1):\n",
    "        if n1%i == 0 and n2%i == 0:\n",
    "            if minVal == None or i < minVal:\n",
    "                minVal = i\n",
    "            if maxVal == None or i > maxVal:\n",
    "                maxVal = i\n",
    "    return (minVal,maxVal)\n",
    "\n",
    "minDivisor,maxDivisor = findDivisors(100,200)\n",
    "print(minDivisor)\n",
    "print(maxDivisor)"
   ]
  },
  {
   "cell_type": "code",
   "execution_count": 5,
   "metadata": {},
   "outputs": [
    {
     "data": {
      "text/plain": [
       "200"
      ]
     },
     "execution_count": 5,
     "metadata": {},
     "output_type": "execute_result"
    }
   ],
   "source": [
    "min(100000,200)\n"
   ]
  },
  {
   "cell_type": "code",
   "execution_count": 6,
   "metadata": {},
   "outputs": [
    {
     "data": {
      "text/plain": [
       "200"
      ]
     },
     "execution_count": 6,
     "metadata": {},
     "output_type": "execute_result"
    }
   ],
   "source": [
    "max(100,200)"
   ]
  },
  {
   "cell_type": "code",
   "execution_count": null,
   "metadata": {},
   "outputs": [],
   "source": []
  }
 ],
 "metadata": {
  "kernelspec": {
   "display_name": "Python 3",
   "language": "python",
   "name": "python3"
  },
  "language_info": {
   "codemirror_mode": {
    "name": "ipython",
    "version": 3
   },
   "file_extension": ".py",
   "mimetype": "text/x-python",
   "name": "python",
   "nbconvert_exporter": "python",
   "pygments_lexer": "ipython3",
   "version": "3.6.5"
  }
 },
 "nbformat": 4,
 "nbformat_minor": 2
}

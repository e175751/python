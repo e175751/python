{
 "cells": [
  {
   "cell_type": "code",
   "execution_count": 2,
   "metadata": {},
   "outputs": [],
   "source": [
    "class person:\n",
    "    def __init__(self):\n",
    "        self.height = 170"
   ]
  },
  {
   "cell_type": "code",
   "execution_count": 3,
   "metadata": {},
   "outputs": [
    {
     "name": "stdout",
     "output_type": "stream",
     "text": [
      "170\n"
     ]
    }
   ],
   "source": [
    "me = person()\n",
    "print(me.height)"
   ]
  },
  {
   "cell_type": "code",
   "execution_count": 4,
   "metadata": {},
   "outputs": [
    {
     "name": "stdout",
     "output_type": "stream",
     "text": [
      "165\n"
     ]
    }
   ],
   "source": [
    "me.height = 165\n",
    "print(me.height)"
   ]
  },
  {
   "cell_type": "code",
   "execution_count": 5,
   "metadata": {},
   "outputs": [],
   "source": [
    "class person:\n",
    "    def __init__(self,hgt):\n",
    "        self.height = hgt"
   ]
  },
  {
   "cell_type": "code",
   "execution_count": 6,
   "metadata": {},
   "outputs": [
    {
     "name": "stdout",
     "output_type": "stream",
     "text": [
      "180\n"
     ]
    }
   ],
   "source": [
    "me = person(180)\n",
    "print(me.height)"
   ]
  },
  {
   "cell_type": "code",
   "execution_count": 7,
   "metadata": {},
   "outputs": [],
   "source": [
    "class person:\n",
    "    def __init__(self,hgt):\n",
    "        self.height = hgt\n",
    "    def hgt_cm2m(self):\n",
    "        print( str(self.height / 100.0) + \"m\" )"
   ]
  },
  {
   "cell_type": "code",
   "execution_count": 8,
   "metadata": {},
   "outputs": [
    {
     "name": "stdout",
     "output_type": "stream",
     "text": [
      "180\n",
      "1.8m\n",
      "None\n"
     ]
    }
   ],
   "source": [
    "me = person(180)\n",
    "print(me.height)\n",
    "# →180と表示される\n",
    "print(me.hgt_cm2m())\n",
    "# →1.8mと表示される"
   ]
  },
  {
   "cell_type": "code",
   "execution_count": 9,
   "metadata": {},
   "outputs": [],
   "source": [
    "class person_mod(person):\n",
    "    pass"
   ]
  },
  {
   "cell_type": "code",
   "execution_count": 10,
   "metadata": {},
   "outputs": [
    {
     "name": "stdout",
     "output_type": "stream",
     "text": [
      "160\n",
      "1.6m\n",
      "None\n"
     ]
    }
   ],
   "source": [
    "someone = person_mod(160)\n",
    "print(someone.height)\n",
    "# →160と表示される\n",
    "print(someone.hgt_cm2m())\n",
    "# →1.6mと表示される"
   ]
  },
  {
   "cell_type": "code",
   "execution_count": 11,
   "metadata": {},
   "outputs": [],
   "source": [
    "class person_mod(person):\n",
    "    def __init__(self,hgt,wgt):\n",
    "        self.weight = wgt"
   ]
  },
  {
   "cell_type": "code",
   "execution_count": 14,
   "metadata": {},
   "outputs": [
    {
     "name": "stdout",
     "output_type": "stream",
     "text": [
      "65\n"
     ]
    }
   ],
   "source": [
    "me = person_mod(175,65)\n",
    "print(me.weight)\n",
    "#print(me.height)\n",
    "#print(me.hgt_cm2m())"
   ]
  },
  {
   "cell_type": "code",
   "execution_count": 15,
   "metadata": {},
   "outputs": [],
   "source": [
    "class person_mod(person):\n",
    "    def __init__(self,hgt,wgt):\n",
    "        person.__init__(self,hgt) # この1文を追加\n",
    "        self.weight = wgt"
   ]
  },
  {
   "cell_type": "code",
   "execution_count": 16,
   "metadata": {},
   "outputs": [
    {
     "name": "stdout",
     "output_type": "stream",
     "text": [
      "175\n",
      "65\n",
      "1.75m\n",
      "None\n"
     ]
    }
   ],
   "source": [
    "me = person_mod(175,65)\n",
    "print(me.height)\n",
    "# →175と表示される\n",
    "print(me.weight)\n",
    "# →65と表示される\n",
    "print(me.hgt_cm2m())\n",
    "# →1.75mと表示される"
   ]
  },
  {
   "cell_type": "code",
   "execution_count": 17,
   "metadata": {},
   "outputs": [],
   "source": [
    "class person_mod(person):\n",
    "    def __init__(self,hgt,wgt):\n",
    "        super().__init__(hgt) # このとき、第1引数selfが必要ない点に注意\n",
    "        self.weight = wgt"
   ]
  },
  {
   "cell_type": "code",
   "execution_count": 18,
   "metadata": {},
   "outputs": [
    {
     "name": "stdout",
     "output_type": "stream",
     "text": [
      "175\n",
      "65\n",
      "1.75m\n",
      "None\n"
     ]
    }
   ],
   "source": [
    "me = person_mod(175,65)\n",
    "print(me.height)\n",
    "# →175と表示される\n",
    "print(me.weight)\n",
    "# →65と表示される\n",
    "print(me.hgt_cm2m())\n",
    "# →1.75mと表示される"
   ]
  },
  {
   "cell_type": "code",
   "execution_count": 19,
   "metadata": {},
   "outputs": [],
   "source": [
    "class person_mod(person):\n",
    "    def __init__(self,hgt,wgt):\n",
    "        person.__init__(self,hgt)\n",
    "        self.weight = wgt\n",
    "    def cal_bmi(self):\n",
    "        # BMI = 体重 / 身長の2乗\n",
    "        return self.weight / (self.height / 100.0 ) ** 2"
   ]
  },
  {
   "cell_type": "code",
   "execution_count": 20,
   "metadata": {},
   "outputs": [
    {
     "name": "stdout",
     "output_type": "stream",
     "text": [
      "21.224489795918366\n"
     ]
    }
   ],
   "source": [
    "me = person_mod(175,65)\n",
    "print(me.cal_bmi())"
   ]
  },
  {
   "cell_type": "code",
   "execution_count": 22,
   "metadata": {},
   "outputs": [],
   "source": [
    "import random"
   ]
  },
  {
   "cell_type": "code",
   "execution_count": 80,
   "metadata": {},
   "outputs": [],
   "source": [
    "import random\n",
    "class LivingThing():\n",
    "    def __init__(self,name,hitpoint,attack):\n",
    "        self.name = name\n",
    "        self.hitpoint = hitpoint\n",
    "        self.attack = attack\n",
    "        self.dead = False\n",
    "        \n",
    "    def isDead(self):\n",
    "        return self.dead\n",
    "    \n",
    "    def getName(self):\n",
    "        return self.name\n",
    "    \n",
    "    def setName(self,name):\n",
    "        self.name = name\n",
    "\n",
    "    def getHitpoint(self):\n",
    "        return self.hitpoint\n",
    "    \n",
    "    def setHitpoint(self,hitpoint):\n",
    "        self.hitpoint = hitpoint\n",
    "        \n",
    "    def getAttack(self):\n",
    "        return self.attack\n",
    "    \n",
    "    def setAttack(self,attack):\n",
    "        self.attack = attack\n",
    "        \n",
    "    def getIsdead(self):\n",
    "        return self.dead\n",
    "    \n",
    "    def setIsdead(self,dead):\n",
    "        self.dead = dead\n",
    "    \n",
    "    def Attack(self,oppent):\n",
    "        if (isDead() == False):\n",
    "            damage = random.randint(1,4) * self.attack\n",
    "            print(\"{}の攻撃!!{}に{}のダメージを与えた\".format (self.name,self.oppent.getName(),self.damage))\n",
    "            oppent.wouded(damage)\n",
    "            \n",
    "    def wouded(self,damage):\n",
    "        pass"
   ]
  },
  {
   "cell_type": "code",
   "execution_count": 81,
   "metadata": {},
   "outputs": [],
   "source": [
    "class Hero(LivingThing):\n",
    "    def __init__(self,name,hitpoint,attack,dead):\n",
    "        super().__init__(name,hitpoint,attack)\n",
    "        self.dead = dead\n",
    "        \n",
    "    def wounded(self,damage):\n",
    "        self.hp = getHitpoint()\n",
    "        self.name = getName()\n",
    "        self.dead = getIsdead()\n",
    "        self.hp -= self.damage\n",
    "        if (hp < 0):\n",
    "            self.dead = True\n",
    "            setIsdead(dead)\n",
    "            print(\"勇者{}は道半ばで力尽きた\".format(self.name))"
   ]
  },
  {
   "cell_type": "code",
   "execution_count": 82,
   "metadata": {},
   "outputs": [],
   "source": [
    "class Enemy(LivingThing):\n",
    "    def __init__(self,name,hitpoint,attack,dead):\n",
    "        super().__init__(name,hitpoint,attack)\n",
    "        self.dead = dead\n",
    "        \n",
    "    def wounded(self,damage):\n",
    "        self.hp = getHitpoint()\n",
    "        self.name = getName()\n",
    "        self.dead = getIsdead()\n",
    "        hp -= self.damage\n",
    "        if (hp < 0):\n",
    "            self.dead = True\n",
    "            setIsdead(dead)\n",
    "            print(\"敵{}を撃破した\".format(self.name))"
   ]
  },
  {
   "cell_type": "code",
   "execution_count": 83,
   "metadata": {},
   "outputs": [
    {
     "ename": "SyntaxError",
     "evalue": "invalid syntax (<ipython-input-83-698ba892447b>, line 6)",
     "output_type": "error",
     "traceback": [
      "\u001b[0;36m  File \u001b[0;32m\"<ipython-input-83-698ba892447b>\"\u001b[0;36m, line \u001b[0;32m6\u001b[0m\n\u001b[0;31m    while(hero.isDead() && enemy.isDead() == False):\u001b[0m\n\u001b[0m                         ^\u001b[0m\n\u001b[0;31mSyntaxError\u001b[0m\u001b[0;31m:\u001b[0m invalid syntax\n"
     ]
    }
   ],
   "source": [
    "hero = Hero(\"桃太郎\",100,9,False)\n",
    "enemy = Enemy(\"hoge\",110,4,False)\n",
    "print(\"{} vs {}\".format(hero.getName(),enemy.getName()))\n",
    "turn = 0\n",
    "print(enemy.isDead())\n",
    "while(hero.isDead() && enemy.isDead() == False):\n",
    "    turn += 1\n",
    "    print(\"{}ターン目\".format(turn))\n",
    "    hero.Attack(enemy)\n",
    "    enemy.Attack(enemy)"
   ]
  },
  {
   "cell_type": "code",
   "execution_count": 76,
   "metadata": {},
   "outputs": [
    {
     "ename": "AttributeError",
     "evalue": "'Main' object has no attribute '__main__'",
     "output_type": "error",
     "traceback": [
      "\u001b[0;31m---------------------------------------------------------------------------\u001b[0m",
      "\u001b[0;31mAttributeError\u001b[0m                            Traceback (most recent call last)",
      "\u001b[0;32m<ipython-input-76-a775b593ec8e>\u001b[0m in \u001b[0;36m<module>\u001b[0;34m\u001b[0m\n\u001b[1;32m      1\u001b[0m \u001b[0ms\u001b[0m \u001b[0;34m=\u001b[0m \u001b[0mMain\u001b[0m\u001b[0;34m(\u001b[0m\u001b[0;34m)\u001b[0m\u001b[0;34m\u001b[0m\u001b[0m\n\u001b[0;32m----> 2\u001b[0;31m \u001b[0ms\u001b[0m\u001b[0;34m.\u001b[0m\u001b[0m__main__\u001b[0m\u001b[0;34m\u001b[0m\u001b[0m\n\u001b[0m",
      "\u001b[0;31mAttributeError\u001b[0m: 'Main' object has no attribute '__main__'"
     ]
    }
   ],
   "source": [
    "s = Main()\n",
    "s.__main__"
   ]
  },
  {
   "cell_type": "code",
   "execution_count": 79,
   "metadata": {},
   "outputs": [
    {
     "name": "stdout",
     "output_type": "stream",
     "text": [
      "車を燃費良く走らせます。\n",
      "車を燃費良く走らせます。\n",
      "車をスポーティーに走らせます。\n"
     ]
    }
   ],
   "source": [
    "class HondaCar():\n",
    "    def drive(self):\n",
    "        print(\"車を走らせます。\")\n",
    "    def motor_drive(self):\n",
    "        print(\"モーターで車を走らせます。\")\n",
    "\n",
    "class CivicCar(HondaCar):\n",
    "    def drive(self):     # メソッドのオーバーライド\n",
    "        print(\"車を燃費良く走らせます。\")\n",
    "\n",
    "class NsxCar(HondaCar):\n",
    "    def drive(self):     # メソッドのオーバーライド\n",
    "        print(\"車をスポーティーに走らせます。\")\n",
    "    def track_mode(self):\n",
    "        print(\"サーキット走行モードで走らせます！\")\n",
    "\n",
    "civic_car = CivicCar()\n",
    "civic_car.drive()\n",
    "\n",
    "nsx_car = NsxCar()\n",
    "class HondaCar():\n",
    "    def drive(self):\n",
    "        print(\"車を走らせます。\")\n",
    "    def motor_drive(self):\n",
    "        print(\"モーターで車を走らせます。\")\n",
    " \n",
    "class CivicCar(HondaCar):\n",
    "    def drive(self):     # メソッドのオーバーライド\n",
    "        print(\"車を燃費良く走らせます。\")\n",
    " \n",
    "class NsxCar(HondaCar):\n",
    "    def drive(self):     # メソッドのオーバーライド\n",
    "        print(\"車をスポーティーに走らせます。\")\n",
    "    def track_mode(self):\n",
    "        print(\"サーキット走行モードで走らせます！\")\n",
    " \n",
    "civic_car = CivicCar()\n",
    "civic_car.drive()\n",
    " \n",
    "nsx_car = NsxCar()\n",
    "nsx_car.drive()"
   ]
  },
  {
   "cell_type": "code",
   "execution_count": 85,
   "metadata": {},
   "outputs": [
    {
     "name": "stdout",
     "output_type": "stream",
     "text": [
      "hoge\n"
     ]
    }
   ],
   "source": [
    "class Heros():\n",
    "    def print_hoge(self):\n",
    "        print(\"hoge\")\n",
    "\n",
    "s = Heros()\n",
    "s.print_hoge()"
   ]
  },
  {
   "cell_type": "code",
   "execution_count": 58,
   "metadata": {},
   "outputs": [
    {
     "name": "stdout",
     "output_type": "stream",
     "text": [
      "This is test\n"
     ]
    }
   ],
   "source": [
    "class Test:\n",
    "\n",
    "\n",
    "    def test_print(self):\n",
    "        print('This is test')\n",
    "\n",
    "test = Test()      #インスタンス生成\n",
    "test.test_print()  #メソッド呼び出し"
   ]
  },
  {
   "cell_type": "code",
   "execution_count": 59,
   "metadata": {},
   "outputs": [
    {
     "name": "stdout",
     "output_type": "stream",
     "text": [
      "引数で渡された数字は10です。\n"
     ]
    }
   ],
   "source": [
    "class Test:\n",
    "    def __init__(self, num):\n",
    "        self.num = num;  #このクラスが持つ「num」変数に引数を格納\n",
    "\n",
    "    def print_num(self):\n",
    "        print('引数で渡された数字は{}です。'.format(self.num)) \n",
    "\n",
    "test = Test(10)   #ここで渡された引数が__init__のnumに渡される\n",
    "test.print_num() "
   ]
  },
  {
   "cell_type": "code",
   "execution_count": 61,
   "metadata": {},
   "outputs": [
    {
     "name": "stdout",
     "output_type": "stream",
     "text": [
      "このクラスはTestクラスを継承しています。\n",
      "引数で渡された数字は10です。\n"
     ]
    }
   ],
   "source": [
    "class Test:\n",
    "    def __init__(self, num):\n",
    "        self.num = num;\n",
    "\n",
    "    def print_num(self):\n",
    "        print('引数で渡された数字は{}です。'.format(self.num))\n",
    "\n",
    "\n",
    "class Test2(Test):  #Testクラスを継承\n",
    "    def print_test2_info(self):\n",
    "        print('このクラスはTestクラスを継承しています。')\n",
    "        super().print_num()  #親クラスのprint_num()を呼び出す\n",
    "\n",
    "test = Test2(10)\n",
    "test.print_test2_info()"
   ]
  },
  {
   "cell_type": "code",
   "execution_count": 87,
   "metadata": {},
   "outputs": [
    {
     "name": "stdout",
     "output_type": "stream",
     "text": [
      "hoge\n",
      "12\n"
     ]
    }
   ],
   "source": [
    "class Test3:\n",
    "    def __init__(self,name,attack):\n",
    "        self.name = name\n",
    "        self.attack = attack\n",
    "    \n",
    "    def print_name(self):\n",
    "        print(self.name)\n",
    "        \n",
    "    def print_attack(self):\n",
    "        print(self.attack)\n",
    "        \n",
    "test3 = Test3(\"hoge\",12)\n",
    "test3.print_name()\n",
    "test3.print_attack()"
   ]
  },
  {
   "cell_type": "code",
   "execution_count": 98,
   "metadata": {},
   "outputs": [],
   "source": [
    "import random\n",
    "class LivingThing:\n",
    "    \n",
    "    def __init__(self,name,maximumHP,attack):\n",
    "        self.name = name\n",
    "        self.hitpoint = maximumHP\n",
    "        self.attack = attack\n",
    "        dead = False\n",
    "        print(\"{}のHPは{}。攻撃力は{}です\".format(self.name,self.maximumHP,attack))\n",
    "        \n",
    "    def isDead(self):\n",
    "        return self.dead\n",
    "    \n",
    "    def getName(self):\n",
    "        return self.name\n",
    "    \n",
    "    def setName(self,name):\n",
    "        self.name = name\n",
    "        \n",
    "    def getHitPoint(self):\n",
    "        return hitpoint\n",
    "    \n",
    "    def setHitPoint(self,hitpoint):\n",
    "        self.hitpoint = hitpoint\n",
    "        \n",
    "    def getAttack(self):\n",
    "        return self.attack\n",
    "    \n",
    "    def setAttack(self,attack):\n",
    "        self.attack = attack\n",
    "        \n",
    "    def getIsdead(self):\n",
    "        return self.dead\n",
    "    \n",
    "    def setIsdead(self,dead):\n",
    "        self.dead = dead\n",
    "        \n",
    "    def attack(oppoenent):\n",
    "        if(isDead() == False):\n",
    "            damage = random.randint(1,4) * self.attack\n",
    "            print(\"{}の攻撃!{}に{}のダメージを与えた!!\".format(self.name,oppoenet.getName(),damage))\n",
    "            opponent.wounded(damage)\n",
    "            \n",
    "    def wounded(damage):\n",
    "        pass"
   ]
  },
  {
   "cell_type": "code",
   "execution_count": 99,
   "metadata": {},
   "outputs": [],
   "source": [
    "class Hero(LivingThing):\n",
    "    \n",
    "    def __init__(self,name,maximumHP,attack):\n",
    "        super().__init__(name,maximumHP,attack)\n",
    "        \n",
    "    def wounded(damage):\n",
    "        Hp = getHitPoint()\n",
    "        Name = getName()\n",
    "        Dead = getIsdead()\n",
    "        Hp -= damage\n",
    "        setHitPoint(Hp)\n",
    "        if(Hp < 0):\n",
    "            Dead = True\n",
    "            setIsdead(Dead)\n",
    "            print(\"勇者{}は道半ばで力尽きてしまった\".format(Name))\n",
    "            "
   ]
  },
  {
   "cell_type": "code",
   "execution_count": 100,
   "metadata": {},
   "outputs": [],
   "source": [
    "class Enemy(LivingThing):\n",
    "    \n",
    "    def __init__(self,name,maximumHP,attack):\n",
    "        super().__init__(name,maximumHP,attack)\n",
    "        \n",
    "    def wounded(damage):\n",
    "        Hp = getHitPoint()\n",
    "        Name = getName()\n",
    "        Dead = getIsdead()\n",
    "        Hp -= damage\n",
    "        setHitPoint(Hp)\n",
    "        if(Hp<0):\n",
    "            Dead = True\n",
    "            setIsdead(Dead)\n",
    "            print(\"敵{}は倒された\".format(Name))\n",
    "    "
   ]
  },
  {
   "cell_type": "code",
   "execution_count": 102,
   "metadata": {},
   "outputs": [
    {
     "ename": "AttributeError",
     "evalue": "'Hero' object has no attribute 'maximumHP'",
     "output_type": "error",
     "traceback": [
      "\u001b[0;31m---------------------------------------------------------------------------\u001b[0m",
      "\u001b[0;31mAttributeError\u001b[0m                            Traceback (most recent call last)",
      "\u001b[0;32m<ipython-input-102-145813b6af20>\u001b[0m in \u001b[0;36m<module>\u001b[0;34m\u001b[0m\n\u001b[1;32m      1\u001b[0m \u001b[0mturn\u001b[0m \u001b[0;34m=\u001b[0m \u001b[0;36m0\u001b[0m\u001b[0;34m\u001b[0m\u001b[0m\n\u001b[0;32m----> 2\u001b[0;31m \u001b[0mhero\u001b[0m \u001b[0;34m=\u001b[0m \u001b[0mHero\u001b[0m\u001b[0;34m(\u001b[0m\u001b[0;34m\"ルルーシュ\"\u001b[0m\u001b[0;34m,\u001b[0m\u001b[0;36m10\u001b[0m\u001b[0;34m,\u001b[0m\u001b[0;36m3\u001b[0m\u001b[0;34m)\u001b[0m\u001b[0;34m\u001b[0m\u001b[0m\n\u001b[0m\u001b[1;32m      3\u001b[0m \u001b[0menemy\u001b[0m \u001b[0;34m=\u001b[0m \u001b[0mEnemy\u001b[0m\u001b[0;34m(\u001b[0m\u001b[0;34m\"スザク\"\u001b[0m\u001b[0;34m,\u001b[0m\u001b[0;36m15\u001b[0m\u001b[0;34m,\u001b[0m\u001b[0;36m4\u001b[0m\u001b[0;34m)\u001b[0m\u001b[0;34m\u001b[0m\u001b[0m\n\u001b[1;32m      4\u001b[0m \u001b[0mprint\u001b[0m\u001b[0;34m(\u001b[0m\u001b[0;34m\"{} vs {}\"\u001b[0m\u001b[0;34m.\u001b[0m\u001b[0mformat\u001b[0m\u001b[0;34m(\u001b[0m\u001b[0mhero\u001b[0m\u001b[0;34m.\u001b[0m\u001b[0mgetName\u001b[0m\u001b[0;34m(\u001b[0m\u001b[0;34m)\u001b[0m\u001b[0;34m,\u001b[0m\u001b[0menemy\u001b[0m\u001b[0;34m.\u001b[0m\u001b[0mgetName\u001b[0m\u001b[0;34m(\u001b[0m\u001b[0;34m)\u001b[0m\u001b[0;34m)\u001b[0m\u001b[0;34m)\u001b[0m\u001b[0;34m\u001b[0m\u001b[0m\n\u001b[1;32m      5\u001b[0m \u001b[0;32mwhile\u001b[0m\u001b[0;34m(\u001b[0m\u001b[0;32mnot\u001b[0m\u001b[0;34m(\u001b[0m\u001b[0mhero\u001b[0m\u001b[0;34m.\u001b[0m\u001b[0misDead\u001b[0m\u001b[0;34m(\u001b[0m\u001b[0;34m)\u001b[0m \u001b[0;32mand\u001b[0m \u001b[0menemy\u001b[0m\u001b[0;34m.\u001b[0m\u001b[0misDead\u001b[0m\u001b[0;34m(\u001b[0m\u001b[0;34m)\u001b[0m \u001b[0;34m==\u001b[0m \u001b[0;32mFalse\u001b[0m\u001b[0;34m)\u001b[0m\u001b[0;34m)\u001b[0m\u001b[0;34m:\u001b[0m\u001b[0;34m\u001b[0m\u001b[0m\n",
      "\u001b[0;32m<ipython-input-99-b5804c89a0c2>\u001b[0m in \u001b[0;36m__init__\u001b[0;34m(self, name, maximumHP, attack)\u001b[0m\n\u001b[1;32m      2\u001b[0m \u001b[0;34m\u001b[0m\u001b[0m\n\u001b[1;32m      3\u001b[0m     \u001b[0;32mdef\u001b[0m \u001b[0m__init__\u001b[0m\u001b[0;34m(\u001b[0m\u001b[0mself\u001b[0m\u001b[0;34m,\u001b[0m\u001b[0mname\u001b[0m\u001b[0;34m,\u001b[0m\u001b[0mmaximumHP\u001b[0m\u001b[0;34m,\u001b[0m\u001b[0mattack\u001b[0m\u001b[0;34m)\u001b[0m\u001b[0;34m:\u001b[0m\u001b[0;34m\u001b[0m\u001b[0m\n\u001b[0;32m----> 4\u001b[0;31m         \u001b[0msuper\u001b[0m\u001b[0;34m(\u001b[0m\u001b[0;34m)\u001b[0m\u001b[0;34m.\u001b[0m\u001b[0m__init__\u001b[0m\u001b[0;34m(\u001b[0m\u001b[0mname\u001b[0m\u001b[0;34m,\u001b[0m\u001b[0mmaximumHP\u001b[0m\u001b[0;34m,\u001b[0m\u001b[0mattack\u001b[0m\u001b[0;34m)\u001b[0m\u001b[0;34m\u001b[0m\u001b[0m\n\u001b[0m\u001b[1;32m      5\u001b[0m \u001b[0;34m\u001b[0m\u001b[0m\n\u001b[1;32m      6\u001b[0m     \u001b[0;32mdef\u001b[0m \u001b[0mwounded\u001b[0m\u001b[0;34m(\u001b[0m\u001b[0mdamage\u001b[0m\u001b[0;34m)\u001b[0m\u001b[0;34m:\u001b[0m\u001b[0;34m\u001b[0m\u001b[0m\n",
      "\u001b[0;32m<ipython-input-98-bcf5bf509e17>\u001b[0m in \u001b[0;36m__init__\u001b[0;34m(self, name, maximumHP, attack)\u001b[0m\n\u001b[1;32m      7\u001b[0m         \u001b[0mself\u001b[0m\u001b[0;34m.\u001b[0m\u001b[0mattack\u001b[0m \u001b[0;34m=\u001b[0m \u001b[0mattack\u001b[0m\u001b[0;34m\u001b[0m\u001b[0m\n\u001b[1;32m      8\u001b[0m         \u001b[0mdead\u001b[0m \u001b[0;34m=\u001b[0m \u001b[0;32mFalse\u001b[0m\u001b[0;34m\u001b[0m\u001b[0m\n\u001b[0;32m----> 9\u001b[0;31m         \u001b[0mprint\u001b[0m\u001b[0;34m(\u001b[0m\u001b[0;34m\"{}のHPは{}。攻撃力は{}です\"\u001b[0m\u001b[0;34m.\u001b[0m\u001b[0mformat\u001b[0m\u001b[0;34m(\u001b[0m\u001b[0mself\u001b[0m\u001b[0;34m.\u001b[0m\u001b[0mname\u001b[0m\u001b[0;34m,\u001b[0m\u001b[0mself\u001b[0m\u001b[0;34m.\u001b[0m\u001b[0mmaximumHP\u001b[0m\u001b[0;34m,\u001b[0m\u001b[0mattack\u001b[0m\u001b[0;34m)\u001b[0m\u001b[0;34m)\u001b[0m\u001b[0;34m\u001b[0m\u001b[0m\n\u001b[0m\u001b[1;32m     10\u001b[0m \u001b[0;34m\u001b[0m\u001b[0m\n\u001b[1;32m     11\u001b[0m     \u001b[0;32mdef\u001b[0m \u001b[0misDead\u001b[0m\u001b[0;34m(\u001b[0m\u001b[0mself\u001b[0m\u001b[0;34m)\u001b[0m\u001b[0;34m:\u001b[0m\u001b[0;34m\u001b[0m\u001b[0m\n",
      "\u001b[0;31mAttributeError\u001b[0m: 'Hero' object has no attribute 'maximumHP'"
     ]
    }
   ],
   "source": [
    "turn = 0\n",
    "hero = Hero(\"ルルーシュ\",10,3)\n",
    "enemy = Enemy(\"スザク\",15,4)\n",
    "print(\"{} vs {}\".format(hero.getName(),enemy.getName()))\n",
    "while(not(hero.isDead() and enemy.isDead() == False)):\n",
    "    turn += 1\n",
    "    print(\"{}ターン目開始\".format(turn))\n",
    "    hero.attack(enemy)\n",
    "    enemy.attack(hero)\n",
    "print(\"戦闘終了\")"
   ]
  },
  {
   "cell_type": "code",
   "execution_count": 121,
   "metadata": {},
   "outputs": [
    {
     "name": "stdout",
     "output_type": "stream",
     "text": [
      "hoge\n"
     ]
    }
   ],
   "source": [
    "class Ma:\n",
    "    def __init(self,dead):\n",
    "        self.dead = True\n",
    "    \n",
    "    def hoge(self):\n",
    "        return self.dead\n",
    "\n",
    "    def fuga(self):\n",
    "        if(not(hoge() == True)):\n",
    "            print(\"hoge\")\n",
    "    \n",
    "s = Ma()\n",
    "s.fuga()"
   ]
  },
  {
   "cell_type": "code",
   "execution_count": null,
   "metadata": {},
   "outputs": [],
   "source": []
  }
 ],
 "metadata": {
  "kernelspec": {
   "display_name": "Python 3",
   "language": "python",
   "name": "python3"
  },
  "language_info": {
   "codemirror_mode": {
    "name": "ipython",
    "version": 3
   },
   "file_extension": ".py",
   "mimetype": "text/x-python",
   "name": "python",
   "nbconvert_exporter": "python",
   "pygments_lexer": "ipython3",
   "version": "3.6.5"
  }
 },
 "nbformat": 4,
 "nbformat_minor": 2
}

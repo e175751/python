{
 "cells": [
  {
   "cell_type": "code",
   "execution_count": 1,
   "metadata": {},
   "outputs": [],
   "source": [
    "import socket"
   ]
  },
  {
   "cell_type": "raw",
   "metadata": {},
   "source": [
    "target_host = \"www.google.com\"\n",
    "target_port = 80\n",
    "\n",
    "#　ソケットオブジェクトの作成\n",
    "client = socket.socket(socket.AF_INET, socket.SOCK_STERAM)\n",
    "\n",
    "#サーバへ接続\n",
    "client.connect((target_host,target_port))\n",
    "\n",
    "#データの送信\n",
    "client.send(\"\")"
   ]
  },
  {
   "cell_type": "code",
   "execution_count": null,
   "metadata": {},
   "outputs": [],
   "source": []
  }
 ],
 "metadata": {
  "kernelspec": {
   "display_name": "Python 3",
   "language": "python",
   "name": "python3"
  },
  "language_info": {
   "codemirror_mode": {
    "name": "ipython",
    "version": 3
   },
   "file_extension": ".py",
   "mimetype": "text/x-python",
   "name": "python",
   "nbconvert_exporter": "python",
   "pygments_lexer": "ipython3",
   "version": "3.6.5"
  }
 },
 "nbformat": 4,
 "nbformat_minor": 2
}

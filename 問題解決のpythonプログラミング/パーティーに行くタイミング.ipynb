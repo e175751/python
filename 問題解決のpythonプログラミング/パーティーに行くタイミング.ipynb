{
 "cells": [
  {
   "cell_type": "code",
   "execution_count": 1,
   "metadata": {},
   "outputs": [],
   "source": [
    "sched = [(6,8),(6,12),(6,7),(7,8),(7,10),(8,9),(8,10),(9,12),(9,10),(10,11),(10,12),(11,12)]"
   ]
  },
  {
   "cell_type": "code",
   "execution_count": 2,
   "metadata": {},
   "outputs": [],
   "source": [
    "def bestTimeToParty(schedule):\n",
    "    start = schedule[0][0]\n",
    "    end = schedule[0][1]\n",
    "    for c in schedule:\n",
    "        start = min(c[0],start)\n",
    "        end = max(c[1],end)\n",
    "    count = celebrityDensity(schedule,start,end)\n",
    "    maxcount = 0\n",
    "    for i in range(start,end+1):\n",
    "        if count[i] > maxcount:\n",
    "            maxcount = count[i]\n",
    "            time = i\n",
    "    print('Best time to arttend the party is at',time,'o\\clock',':',maxcount,' celebrities will be attending!')"
   ]
  },
  {
   "cell_type": "code",
   "execution_count": 9,
   "metadata": {},
   "outputs": [],
   "source": [
    "def celebrityDensity(sched,start,end):\n",
    "    count = [0]*(end+1)\n",
    "    for i in range(start,end+1):\n",
    "        count[i]=0\n",
    "        for c in sched:\n",
    "            if c[0] <= i and c[1] > i:\n",
    "                count[i] += 1\n",
    "    return count"
   ]
  },
  {
   "cell_type": "code",
   "execution_count": 7,
   "metadata": {},
   "outputs": [
    {
     "name": "stdout",
     "output_type": "stream",
     "text": [
      "Best time to arttend the party is at 9 o\\clock : 5  celebrities will be attending!\n"
     ]
    }
   ],
   "source": [
    "bestTimeToParty(sched)"
   ]
  },
  {
   "cell_type": "code",
   "execution_count": 8,
   "metadata": {},
   "outputs": [
    {
     "name": "stdout",
     "output_type": "stream",
     "text": [
      "[0, 0, 0, 0, 0, 0, 0, 0, 0, 0, 0, 0, 0]\n"
     ]
    }
   ],
   "source": [
    "count = [0]*13\n",
    "print(count)"
   ]
  },
  {
   "cell_type": "code",
   "execution_count": 11,
   "metadata": {},
   "outputs": [],
   "source": [
    "sched2 = [(6.0,8.0),(6.5,12.0),(6.5,7.0),\n",
    "          (7.0,8.0),(7.5,10.0),(8.0,9.0),\n",
    "          (8.0,10.0),(9.0,12.0),(9.5,10.0),\n",
    "          (10.0,11.0),(10.0,12.0),(11.0,12.0)]"
   ]
  },
  {
   "cell_type": "code",
   "execution_count": 16,
   "metadata": {},
   "outputs": [],
   "source": [
    "def bestTimeToPartySmart(schedule):\n",
    "    times = []\n",
    "    for c in schedule:\n",
    "        times.append((c[0],'start'))\n",
    "        times.append((c[1],'end'))\n",
    "    sortLlist(times)\n",
    "    maxcount,time = chooseTime(times)\n",
    "    print('Best time to arttend the party is at',time,'o\\clock',':',maxcount,' celebrities will be attending!')"
   ]
  },
  {
   "cell_type": "code",
   "execution_count": 20,
   "metadata": {},
   "outputs": [],
   "source": [
    "def sortLlist(tlist):\n",
    "    for ind in range(len(tlist)-1):\n",
    "        iSm = ind\n",
    "        for i in range(ind,len(tlist)):\n",
    "            if tlist[iSm][0] > tlist[i][0]:\n",
    "                iSm = i\n",
    "        tlist[ind],tlist[iSm] = tlist[iSm],tlist[ind]"
   ]
  },
  {
   "cell_type": "code",
   "execution_count": 23,
   "metadata": {},
   "outputs": [],
   "source": [
    "def chooseTime(times):\n",
    "    rcount = 0\n",
    "    maxcount = time = 0\n",
    "    for t in times:\n",
    "        if t[1] == 'start':\n",
    "            rcount = rcount + 1\n",
    "        elif t[1] == 'end':\n",
    "            rcount = rcount - 1\n",
    "        if rcount > maxcount:\n",
    "            maxcount = rcount\n",
    "            time = t[0]\n",
    "    return maxcount,time"
   ]
  },
  {
   "cell_type": "code",
   "execution_count": 24,
   "metadata": {},
   "outputs": [
    {
     "name": "stdout",
     "output_type": "stream",
     "text": [
      "Best time to arttend the party is at 9.5 o\\clock : 5  celebrities will be attending!\n"
     ]
    }
   ],
   "source": [
    "bestTimeToPartySmart(sched2)"
   ]
  },
  {
   "cell_type": "code",
   "execution_count": null,
   "metadata": {},
   "outputs": [],
   "source": []
  }
 ],
 "metadata": {
  "kernelspec": {
   "display_name": "Python 3",
   "language": "python",
   "name": "python3"
  },
  "language_info": {
   "codemirror_mode": {
    "name": "ipython",
    "version": 3
   },
   "file_extension": ".py",
   "mimetype": "text/x-python",
   "name": "python",
   "nbconvert_exporter": "python",
   "pygments_lexer": "ipython3",
   "version": "3.6.5"
  }
 },
 "nbformat": 4,
 "nbformat_minor": 2
}

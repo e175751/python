{
 "cells": [
  {
   "cell_type": "code",
   "execution_count": 75,
   "metadata": {},
   "outputs": [],
   "source": [
    "cap1=['F','F','B','B','B','F','B','B','B','F','F','B','F']\n",
    "cap2=['F','F','B','B','B','F','B','B','B','F','F','F','F']\n",
    "cap = ['F','F','B','B','B','F','B','B','B','F','F','F','']\n",
    "cap3 = ['F','F','B','H','B','F','B','B','B','F','H','F','F']"
   ]
  },
  {
   "cell_type": "code",
   "execution_count": 77,
   "metadata": {},
   "outputs": [],
   "source": [
    "def pleaseConform(caps):\n",
    "    start = forward = backward = 0\n",
    "    intervals=[]\n",
    "    for i in range(1,len(caps)):\n",
    "        if caps[start] != caps[i]:\n",
    "            intervals.append((start,i-1,caps[start]))\n",
    "            if caps[start] == 'F':\n",
    "                forward += 1\n",
    "            elif caps[start] == 'B':\n",
    "                backward += 1\n",
    "            else:\n",
    "                continue\n",
    "            start = i\n",
    "            print(\"hoge\")\n",
    "    intervals.append((start,len(caps)-1,caps[start]))\n",
    "    if caps[start] == 'F':\n",
    "        forward += 1\n",
    "    else:\n",
    "        backward += 1\n",
    "    if forward < backward:\n",
    "        flip = 'F'\n",
    "    else:\n",
    "        flip = 'B'\n",
    "    #print(intervals)\n",
    "    for t in intervals:\n",
    "        if t[2] == flip:\n",
    "            if t[0] != t[1]:\n",
    "                print('People in positions',t[0],'through',t[1],'flip your caps!')          \n",
    "            else:\n",
    "                print('People in positions',t[0],'flip your caps!')"
   ]
  },
  {
   "cell_type": "code",
   "execution_count": 78,
   "metadata": {},
   "outputs": [
    {
     "name": "stdout",
     "output_type": "stream",
     "text": [
      "hoge\n",
      "hoge\n",
      "People in positions 0 through 1 flip your caps!\n"
     ]
    }
   ],
   "source": [
    "pleaseConform(cap3)"
   ]
  },
  {
   "cell_type": "code",
   "execution_count": 56,
   "metadata": {},
   "outputs": [
    {
     "name": "stdout",
     "output_type": "stream",
     "text": [
      "People in positions 2 through 4 flip your caps!\n",
      "People in positions 6 through 8 flip your caps!\n"
     ]
    }
   ],
   "source": [
    "pleaseConform(cap2)"
   ]
  },
  {
   "cell_type": "code",
   "execution_count": 31,
   "metadata": {},
   "outputs": [
    {
     "name": "stdout",
     "output_type": "stream",
     "text": [
      "['F', 'F', 'B', 'END']\n",
      "['F', 'F', 'B']\n"
     ]
    }
   ],
   "source": [
    "def listConcatenate(caps):\n",
    "    caps = caps + ['END']\n",
    "    print(caps)\n",
    "capA=['F','F','B']\n",
    "listConcatenate(capA)\n",
    "print(capA)"
   ]
  },
  {
   "cell_type": "code",
   "execution_count": 32,
   "metadata": {},
   "outputs": [
    {
     "name": "stdout",
     "output_type": "stream",
     "text": [
      "['F', 'F', 'B', 'END']\n",
      "['F', 'F', 'B', 'END']\n"
     ]
    }
   ],
   "source": [
    "def listConcatenate(caps):\n",
    "    caps.append('END')\n",
    "    print(caps)\n",
    "capA=['F','F','B']\n",
    "listConcatenate(capA)\n",
    "print(capA)"
   ]
  },
  {
   "cell_type": "code",
   "execution_count": 33,
   "metadata": {},
   "outputs": [
    {
     "name": "stdout",
     "output_type": "stream",
     "text": [
      "['F', 'F', 'B', 'END']\n",
      "['F', 'F', 'B']\n"
     ]
    }
   ],
   "source": [
    "def listConcatenate(caps):\n",
    "    caps = caps + ['END']\n",
    "    print(caps)\n",
    "caps=['F','F','B']\n",
    "listConcatenate(caps)\n",
    "print(caps)"
   ]
  },
  {
   "cell_type": "code",
   "execution_count": 34,
   "metadata": {},
   "outputs": [
    {
     "name": "stdout",
     "output_type": "stream",
     "text": [
      "['F', 'F', 'B', 'END']\n",
      "['F', 'F', 'B', 'END']\n"
     ]
    }
   ],
   "source": [
    "def listConcatenate(caps):\n",
    "    caps.append('END')\n",
    "    print(caps)\n",
    "caps=['F','F','B']\n",
    "listConcatenate(caps)\n",
    "print(caps)"
   ]
  },
  {
   "cell_type": "code",
   "execution_count": 49,
   "metadata": {},
   "outputs": [],
   "source": [
    "def pleaseConformOnepass(caps):\n",
    "    #print(caps)\n",
    "    caps = caps + [caps[0]]\n",
    "    for i in range(1,len(caps)):\n",
    "        if caps[i] != caps[i-1]:\n",
    "            if caps[i] != caps[0]:\n",
    "                print('People in positions',i,end='')\n",
    "            else:\n",
    "                print( ' through',i-1,'flip your caps!')\n",
    "                \n",
    "    print(caps)"
   ]
  },
  {
   "cell_type": "code",
   "execution_count": 50,
   "metadata": {},
   "outputs": [
    {
     "name": "stdout",
     "output_type": "stream",
     "text": [
      "People in positions 2 through 4 flip your caps!\n",
      "People in positions 6 through 8 flip your caps!\n",
      "People in positions 11 through 11 flip your caps!\n",
      "['F', 'F', 'B', 'B', 'B', 'F', 'B', 'B', 'B', 'F', 'F', 'B', 'F', 'F']\n"
     ]
    }
   ],
   "source": [
    "pleaseConformOnepass(cap1)"
   ]
  },
  {
   "cell_type": "code",
   "execution_count": 51,
   "metadata": {},
   "outputs": [
    {
     "name": "stdout",
     "output_type": "stream",
     "text": [
      "People in positions 0 through 1 flip your caps!\n",
      "People in positions 1 through 2 flip your caps!\n",
      "People in positions 5 through 11 flip your caps!\n"
     ]
    }
   ],
   "source": [
    "pleaseConform(cap)"
   ]
  },
  {
   "cell_type": "code",
   "execution_count": 52,
   "metadata": {},
   "outputs": [
    {
     "name": "stdout",
     "output_type": "stream",
     "text": [
      "People in positions 2 through 4 flip your caps!\n",
      "People in positions 6 through 8 flip your caps!\n",
      "People in positions 12 through 12 flip your caps!\n",
      "['F', 'F', 'B', 'B', 'B', 'F', 'B', 'B', 'B', 'F', 'F', 'F', '', 'F']\n"
     ]
    }
   ],
   "source": [
    "pleaseConformOnepass(cap)"
   ]
  },
  {
   "cell_type": "code",
   "execution_count": 65,
   "metadata": {},
   "outputs": [],
   "source": [
    "def pleaseConform(caps):\n",
    "    start = forward = backward = 0\n",
    "    intervals=[]\n",
    "    for i in range(1,len(caps)):\n",
    "        if caps[start] != caps[i]:\n",
    "            intervals.append((start,i-1,caps[start]))\n",
    "            if caps[start] == 'F':\n",
    "                forward += 1\n",
    "            elif caps[start] == 'B':\n",
    "                backward += 1\n",
    "            else:\n",
    "                continue\n",
    "            start = i\n",
    "    intervals.append((start,len(caps)-1,caps[start]))\n",
    "    if caps[start] == 'F':\n",
    "        forward += 1\n",
    "    else:\n",
    "        backward += 1\n",
    "    if forward < backward:\n",
    "        flip = 'F'\n",
    "    else:\n",
    "        flip = 'B'\n",
    "    #print(intervals)\n",
    "    for t in intervals:\n",
    "        if t[2] == flip:\n",
    "            if t[0] != t[1]:\n",
    "                print('People in positions',t[0],'through',t[1],'flip your caps!')          \n",
    "            else:\n",
    "                print('People in positions',t[0],'flip your caps!')"
   ]
  },
  {
   "cell_type": "code",
   "execution_count": 66,
   "metadata": {},
   "outputs": [
    {
     "name": "stdout",
     "output_type": "stream",
     "text": [
      "People in positions 0 through 1 flip your caps!\n"
     ]
    }
   ],
   "source": [
    "pleaseConform(cap3)"
   ]
  },
  {
   "cell_type": "code",
   "execution_count": 116,
   "metadata": {},
   "outputs": [],
   "source": [
    "signal = ['B','W','W','W','W','W','B','W','W','W','W']"
   ]
  },
  {
   "cell_type": "code",
   "execution_count": 125,
   "metadata": {},
   "outputs": [],
   "source": [
    "def coding(sing):\n",
    "    start = numb = numw = 0\n",
    "    interval = []\n",
    "    for i in range(1,len(sing)):\n",
    "        if sing[start] != sing[i]:\n",
    "            interval.append((i - start,sing[start]))\n",
    "            if sing[start] == 'B':\n",
    "                numb += 1\n",
    "            else:\n",
    "                numw += 1\n",
    "            start = i\n",
    "    interval.append((len(sing) - start,sing[start]))\n",
    "    print(interval)"
   ]
  },
  {
   "cell_type": "code",
   "execution_count": 126,
   "metadata": {},
   "outputs": [
    {
     "name": "stdout",
     "output_type": "stream",
     "text": [
      "[(1, 'B'), (5, 'W'), (1, 'B'), (4, 'W')]\n"
     ]
    }
   ],
   "source": [
    "coding(signal)"
   ]
  },
  {
   "cell_type": "code",
   "execution_count": null,
   "metadata": {},
   "outputs": [],
   "source": []
  }
 ],
 "metadata": {
  "kernelspec": {
   "display_name": "Python 3",
   "language": "python",
   "name": "python3"
  },
  "language_info": {
   "codemirror_mode": {
    "name": "ipython",
    "version": 3
   },
   "file_extension": ".py",
   "mimetype": "text/x-python",
   "name": "python",
   "nbconvert_exporter": "python",
   "pygments_lexer": "ipython3",
   "version": "3.6.5"
  }
 },
 "nbformat": 4,
 "nbformat_minor": 2
}
